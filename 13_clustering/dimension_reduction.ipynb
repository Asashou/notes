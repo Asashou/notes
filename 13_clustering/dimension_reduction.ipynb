{
 "cells": [
  {
   "cell_type": "markdown",
   "metadata": {},
   "source": [
    "## Initialize some stuff:"
   ]
  },
  {
   "cell_type": "code",
   "execution_count": null,
   "metadata": {
    "collapsed": true
   },
   "outputs": [],
   "source": [
    "%matplotlib inline\n",
    "import numpy as np\n",
    "import matplotlib.pyplot as plt\n",
    "from sklearn.datasets import make_classification\n",
    "from sklearn.decomposition import PCA"
   ]
  },
  {
   "cell_type": "markdown",
   "metadata": {},
   "source": [
    "## Generate data for 3 clusters embedded in 20 dimensional space:"
   ]
  },
  {
   "cell_type": "code",
   "execution_count": null,
   "metadata": {
    "collapsed": false
   },
   "outputs": [],
   "source": [
    "np.random.seed(0)\n",
    "d20, _ = make_classification(n_samples=10000, n_features=20, n_informative=2,\n",
    "                             n_redundant=2, n_repeated=0, n_classes=1,\n",
    "                             n_clusters_per_class=3, hypercube=True, random_state=2)"
   ]
  },
  {
   "cell_type": "code",
   "execution_count": null,
   "metadata": {
    "collapsed": false,
    "deletable": true,
    "editable": true
   },
   "outputs": [],
   "source": [
    "d20.shape"
   ]
  },
  {
   "cell_type": "markdown",
   "metadata": {},
   "source": [
    "## Plot some 2D projections of 20D data:"
   ]
  },
  {
   "cell_type": "code",
   "execution_count": null,
   "metadata": {
    "collapsed": false
   },
   "outputs": [],
   "source": [
    "f, ax = plt.subplots(nrows=1, ncols=3, figsize=(15, 5))\n",
    "ax[0].set_title('20D data')\n",
    "ax[0].set_xlabel('Dimension 0')\n",
    "ax[0].set_ylabel('Dimension 1')\n",
    "ax[0].scatter(d20[:, 0], d20[:, 1], s=2) # plot x vs. y for first two dimensions\n",
    "ax[1].set_title('20D data')\n",
    "ax[1].set_xlabel('Dimension 2')\n",
    "ax[1].set_ylabel('Dimension 3')\n",
    "ax[1].scatter(d20[:, 2], d20[:, 3], s=2) # plot x vs. y for second two dimensions\n",
    "ax[2].set_title('20D data')\n",
    "ax[2].set_xlabel('Dimension 4')\n",
    "ax[2].set_ylabel('Dimension 5')\n",
    "ax[2].scatter(d20[:, 4], d20[:, 5], s=2) # plot x vs. y for third two dimensions"
   ]
  },
  {
   "cell_type": "markdown",
   "metadata": {
    "deletable": true,
    "editable": true
   },
   "source": [
    "## Use PCA to reduce to top 2 most informative dimensions:"
   ]
  },
  {
   "cell_type": "code",
   "execution_count": null,
   "metadata": {
    "collapsed": false
   },
   "outputs": [],
   "source": [
    "pca = PCA(n_components=2) # create a PCA object, ask for only the top 2 components\n",
    "d2 = pca.fit_transform(d20) # calculate top 2 principal components, project data onto them\n",
    "f, ax = plt.subplots(figsize=(10, 10))\n",
    "ax.set_title('PCA dimension reduction from 20D to 2D')\n",
    "ax.set_xlabel('Principal Component 1')\n",
    "ax.set_ylabel('Principal Component 2')\n",
    "ax.scatter(d2[:, 0], d2[:, 1], s=2) # plot x vs. y for all samples in d2"
   ]
  },
  {
   "cell_type": "code",
   "execution_count": null,
   "metadata": {
    "collapsed": true
   },
   "outputs": [],
   "source": []
  }
 ],
 "metadata": {
  "kernelspec": {
   "display_name": "Python 3",
   "language": "python",
   "name": "python3"
  },
  "language_info": {
   "codemirror_mode": {
    "name": "ipython",
    "version": 3
   },
   "file_extension": ".py",
   "mimetype": "text/x-python",
   "name": "python",
   "nbconvert_exporter": "python",
   "pygments_lexer": "ipython3",
   "version": "3.5.2"
  }
 },
 "nbformat": 4,
 "nbformat_minor": 2
}
