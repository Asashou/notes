{
 "cells": [
  {
   "cell_type": "markdown",
   "metadata": {},
   "source": [
    "## Initialize some stuff:"
   ]
  },
  {
   "cell_type": "code",
   "execution_count": null,
   "metadata": {
    "collapsed": false
   },
   "outputs": [],
   "source": [
    "%matplotlib inline\n",
    "import numpy as np\n",
    "from numpy.random import multivariate_normal as gauss\n",
    "import matplotlib.pyplot as plt\n",
    "from sklearn import cluster\n",
    "\n",
    "figsize = 10, 5 # inches\n",
    "colourset = np.array(['red', 'orange', 'green', 'blue', 'magenta', 'gray', 'brown', 'black']*10)"
   ]
  },
  {
   "cell_type": "markdown",
   "metadata": {},
   "source": [
    "## Generate easy and hard 2D data sets, each is nsamples rows x 2 columns per sample:"
   ]
  },
  {
   "cell_type": "code",
   "execution_count": null,
   "metadata": {
    "collapsed": false
   },
   "outputs": [],
   "source": [
    "np.random.seed(0)\n",
    "\n",
    "mean = [[0, 0],\n",
    "        [3, 3],\n",
    "        [-2.5, 0]]\n",
    "\n",
    "cov1 = [[[0.5, 0.2],\n",
    "         [0.2, 0.2]],\n",
    "        [[0.5, 0],\n",
    "         [0, 0.5]],\n",
    "        [[0.1, 0],\n",
    "         [0, 0.1]]]\n",
    "\n",
    "cov2 = [[[1, 0.2],\n",
    "         [0.2, 0.2]],\n",
    "        [[0.5, 0],\n",
    "         [0, 2]],\n",
    "        [[0.1, 0],\n",
    "         [0, 2]]]\n",
    "\n",
    "# easy data set:\n",
    "g1 = gauss(mean[0], cov1[0], 300)\n",
    "g2 = gauss(mean[1], cov1[1], 300)\n",
    "g3 = gauss(mean[2], cov1[2], 300)\n",
    "set1 = np.vstack([g1, g2, g3])\n",
    "np.random.shuffle(set1)\n",
    "\n",
    "# hard data set:\n",
    "g4 = gauss(mean[0], cov2[0], 300)\n",
    "g5 = gauss(mean[1], cov2[1], 600)\n",
    "g6 = gauss(mean[2], cov2[2], 200)\n",
    "set2 = np.vstack([g4, g5, g6])\n",
    "np.random.shuffle(set2)\n",
    "\n",
    "# plot them:\n",
    "f, ax = plt.subplots(nrows=1, ncols=2, sharey=True, figsize=figsize) # create 1x2 panel figure\n",
    "ax[0].set_title('set1')\n",
    "ax[0].scatter(set1[:, 0], set1[:, 1], s=2) # plot x vs. y for all samples\n",
    "ax[1].set_title('set2')\n",
    "ax[1].scatter(set2[:, 0], set2[:, 1], s=2) # plot x vs. y for all samples"
   ]
  },
  {
   "cell_type": "markdown",
   "metadata": {},
   "source": [
    "## Cluster with K-Means:"
   ]
  },
  {
   "cell_type": "code",
   "execution_count": null,
   "metadata": {
    "collapsed": false
   },
   "outputs": [],
   "source": [
    "kmeans = cluster.KMeans(n_clusters=3) # create a KMeans object, tell it n_clusters you want\n",
    "kmeans.fit(set1) # fit it to (run it on) the data\n",
    "cids = kmeans.labels_ # get resulting cluster IDs from the kmeans object, one for each sample\n",
    "colours = colourset[cids] # convert cluster IDs to colours\n",
    "kmeans.fit(set2) # fit it to (run it on) the data\n",
    "cids2 = kmeans.labels_ # get resulting cluster IDs from the kmeans object, one for each sample\n",
    "colours2 = colourset[cids2] # convert cluster IDs to colours\n",
    "\n",
    "# plot results:\n",
    "f, ax = plt.subplots(nrows=1, ncols=2, sharey=True, figsize=figsize) # create 1x2 panel figure\n",
    "ax[0].set_title('set1')\n",
    "ax[0].scatter(set1[:, 0], set1[:, 1], s=2, color=colours) # plot x vs. y for all samples\n",
    "ax[1].set_title('set2')\n",
    "ax[1].scatter(set2[:, 0], set2[:, 1], s=2, color=colours2) # plot x vs. y for all samples"
   ]
  },
  {
   "cell_type": "markdown",
   "metadata": {},
   "source": [
    "### Exercise 1:\n",
    "\n",
    "What happens sometimes when you re-run k-means multiple times on the same data?"
   ]
  },
  {
   "cell_type": "markdown",
   "metadata": {},
   "source": [
    "### Exercise 2:\n",
    "Re-run k-means by telling it that you want 2 clusters instead of 3. Try it again with 4 or 5 or 6 clusters. What happens when you underestimate or overestimate the true number of clusters?"
   ]
  },
  {
   "cell_type": "markdown",
   "metadata": {},
   "source": [
    "## Cluster with DBSCAN:"
   ]
  },
  {
   "cell_type": "code",
   "execution_count": null,
   "metadata": {
    "collapsed": false
   },
   "outputs": [],
   "source": [
    "dbscan = cluster.DBSCAN(eps=0.5, min_samples=30) # create a DBSCAN object, set its two parameters\n",
    "dbscan.fit(set1) # fit it to (run it on) the data\n",
    "cids = dbscan.labels_ # get resulting cluster IDs from the kmeans object, one for each sample\n",
    "nclust = len(np.unique(cids))\n",
    "colours = colourset[cids] # convert cluster IDs to colours\n",
    "dbscan.fit(set2) # fit it to (run it on) the data\n",
    "cids2 = dbscan.labels_ # get resulting cluster IDs from the kmeans object, one for each sample\n",
    "nclust2 = len(np.unique(cids2))\n",
    "colours2 = colourset[cids2] # convert cluster IDs to colours\n",
    "\n",
    "# plot results:\n",
    "f, ax = plt.subplots(nrows=1, ncols=2, sharey=True, figsize=figsize) # create 1x2 panel figure\n",
    "ax[0].set_title('set1: %d clusters' % nclust)\n",
    "ax[0].scatter(set1[:, 0], set1[:, 1], s=2, color=colours) # plot x vs. y for all samples\n",
    "ax[1].set_title('set2: %d clusters' % nclust2)\n",
    "ax[1].scatter(set2[:, 0], set2[:, 1], s=2, color=colours2) # plot x vs. y for all samples"
   ]
  },
  {
   "cell_type": "markdown",
   "metadata": {},
   "source": [
    "Note that outliers are labelled with `-1`, and show up as black.\n",
    "\n",
    "### Exercise 3:\n",
    "\n",
    "The `eps` parameter tells DBSCAN the maximum distance between neighbouring points in a cluster. The `min_samples` parameter tells DBSCAN roughly the minimum number of points in a cluster. Try changing both parameters. What happens when one of them is too high or low? Can you change them both while still getting a good clustering result?"
   ]
  }
 ],
 "metadata": {
  "kernelspec": {
   "display_name": "Python 3",
   "language": "python",
   "name": "python3"
  },
  "language_info": {
   "codemirror_mode": {
    "name": "ipython",
    "version": 3
   },
   "file_extension": ".py",
   "mimetype": "text/x-python",
   "name": "python",
   "nbconvert_exporter": "python",
   "pygments_lexer": "ipython3",
   "version": "3.5.2"
  }
 },
 "nbformat": 4,
 "nbformat_minor": 2
}
